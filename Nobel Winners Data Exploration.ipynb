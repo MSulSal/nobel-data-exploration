{
 "cells": [
  {
   "cell_type": "markdown",
   "id": "dc4edc65-ea60-4e78-b816-ce366d890f5c",
   "metadata": {},
   "source": [
    "# Nobel Winners Data Explored"
   ]
  },
  {
   "cell_type": "markdown",
   "id": "916a73f2-8dc4-4290-bbd1-c40dbe7c399e",
   "metadata": {},
   "source": [
    "## Setup"
   ]
  },
  {
   "cell_type": "code",
   "execution_count": 1,
   "id": "87fe974a-8ab4-45cb-80ea-159feed3dfe7",
   "metadata": {},
   "outputs": [],
   "source": [
    "%matplotlib inline"
   ]
  },
  {
   "cell_type": "code",
   "execution_count": 2,
   "id": "3ce5922e-dcbd-4b45-bdce-9dcd277c152b",
   "metadata": {},
   "outputs": [],
   "source": [
    "import numpy as np\n",
    "import pandas as pd\n",
    "import matplotlib\n",
    "import matplotlib.pyplot as plt\n",
    "import json\n",
    "import seaborn as sns"
   ]
  },
  {
   "cell_type": "code",
   "execution_count": 3,
   "id": "313e3c86-9054-4a85-94c2-e9dacbb7bea5",
   "metadata": {},
   "outputs": [],
   "source": [
    "matplotlib.style.use(\"seaborn-v0_8\")\n",
    "plt.rcParams[\"figure.figsize\"] = (8,4)\n",
    "plt.rcParams[\"font.size\"] = 14"
   ]
  },
  {
   "cell_type": "markdown",
   "id": "9db609ad-8cb2-4825-a7cb-154a1071da2b",
   "metadata": {},
   "source": [
    "## Starting to Explore"
   ]
  },
  {
   "cell_type": "code",
   "execution_count": 5,
   "id": "29efdd7b-4a82-4aff-978c-2709f20ac7ab",
   "metadata": {},
   "outputs": [],
   "source": [
    "df = pd.read_json(\"../nobel_winners_cleaned.json\")"
   ]
  },
  {
   "cell_type": "code",
   "execution_count": 6,
   "id": "a4b6e803-d7b0-4ad7-96be-1bf03c1b484a",
   "metadata": {},
   "outputs": [
    {
     "name": "stdout",
     "output_type": "stream",
     "text": [
      "<class 'pandas.core.frame.DataFrame'>\n",
      "RangeIndex: 981 entries, 0 to 980\n",
      "Data columns (total 16 columns):\n",
      " #   Column          Non-Null Count  Dtype \n",
      "---  ------          --------------  ----- \n",
      " 0   link            981 non-null    object\n",
      " 1   name            981 non-null    object\n",
      " 2   year            981 non-null    int64 \n",
      " 3   category        981 non-null    object\n",
      " 4   country         981 non-null    object\n",
      " 5   text            981 non-null    object\n",
      " 6   date_of_birth   981 non-null    object\n",
      " 7   place_of_birth  980 non-null    object\n",
      " 8   gender          981 non-null    object\n",
      " 9   date_of_death   681 non-null    object\n",
      " 10  place_of_death  679 non-null    object\n",
      " 11  award_age       981 non-null    int64 \n",
      " 12  born_in         140 non-null    object\n",
      " 13  image_urls      659 non-null    object\n",
      " 14  mini_bio        659 non-null    object\n",
      " 15  bio_image       659 non-null    object\n",
      "dtypes: int64(2), object(14)\n",
      "memory usage: 122.8+ KB\n"
     ]
    }
   ],
   "source": [
    "df.info()"
   ]
  },
  {
   "cell_type": "code",
   "execution_count": 7,
   "id": "58383635-653b-4c0d-b65c-a621b41e6a03",
   "metadata": {},
   "outputs": [],
   "source": [
    "df.date_of_birth = pd.to_datetime(df.date_of_birth)\n",
    "df.date_of_death = pd.to_datetime(df.date_of_death)"
   ]
  },
  {
   "cell_type": "code",
   "execution_count": null,
   "id": "6c464615-5ac9-45a2-88fd-04ec4d018594",
   "metadata": {},
   "outputs": [],
   "source": []
  }
 ],
 "metadata": {
  "kernelspec": {
   "display_name": "Python 3 (ipykernel)",
   "language": "python",
   "name": "python3"
  },
  "language_info": {
   "codemirror_mode": {
    "name": "ipython",
    "version": 3
   },
   "file_extension": ".py",
   "mimetype": "text/x-python",
   "name": "python",
   "nbconvert_exporter": "python",
   "pygments_lexer": "ipython3",
   "version": "3.13.0"
  }
 },
 "nbformat": 4,
 "nbformat_minor": 5
}
