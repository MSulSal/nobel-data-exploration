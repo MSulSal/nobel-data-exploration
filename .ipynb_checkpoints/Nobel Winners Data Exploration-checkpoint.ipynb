{
 "cells": [
  {
   "cell_type": "markdown",
   "id": "dc4edc65-ea60-4e78-b816-ce366d890f5c",
   "metadata": {},
   "source": [
    "# Nobel Winners Data Explored"
   ]
  },
  {
   "cell_type": "markdown",
   "id": "916a73f2-8dc4-4290-bbd1-c40dbe7c399e",
   "metadata": {
    "jp-MarkdownHeadingCollapsed": true
   },
   "source": [
    "## Setup"
   ]
  },
  {
   "cell_type": "code",
   "execution_count": 1,
   "id": "87fe974a-8ab4-45cb-80ea-159feed3dfe7",
   "metadata": {
    "jupyter": {
     "source_hidden": true
    }
   },
   "outputs": [],
   "source": [
    "%matplotlib inline"
   ]
  },
  {
   "cell_type": "code",
   "execution_count": 2,
   "id": "3ce5922e-dcbd-4b45-bdce-9dcd277c152b",
   "metadata": {
    "jupyter": {
     "source_hidden": true
    }
   },
   "outputs": [],
   "source": [
    "import numpy as np\n",
    "import pandas as pd\n",
    "import matplotlib\n",
    "import matplotlib.pyplot as plt\n",
    "import json\n",
    "import seaborn as sns"
   ]
  },
  {
   "cell_type": "code",
   "execution_count": 3,
   "id": "313e3c86-9054-4a85-94c2-e9dacbb7bea5",
   "metadata": {
    "jupyter": {
     "source_hidden": true
    }
   },
   "outputs": [],
   "source": [
    "matplotlib.style.use(\"seaborn-v0_8\")\n",
    "plt.rcParams[\"figure.figsize\"] = (8,4)\n",
    "plt.rcParams[\"font.size\"] = 14"
   ]
  },
  {
   "cell_type": "markdown",
   "id": "9db609ad-8cb2-4825-a7cb-154a1071da2b",
   "metadata": {},
   "source": [
    "## Starting to Explore"
   ]
  },
  {
   "cell_type": "code",
   "execution_count": 5,
   "id": "29efdd7b-4a82-4aff-978c-2709f20ac7ab",
   "metadata": {
    "jupyter": {
     "source_hidden": true
    }
   },
   "outputs": [],
   "source": [
    "df = pd.read_json(\"../nobel_winners_cleaned.json\")"
   ]
  },
  {
   "cell_type": "code",
   "execution_count": 6,
   "id": "a4b6e803-d7b0-4ad7-96be-1bf03c1b484a",
   "metadata": {
    "jupyter": {
     "source_hidden": true
    }
   },
   "outputs": [
    {
     "name": "stdout",
     "output_type": "stream",
     "text": [
      "<class 'pandas.core.frame.DataFrame'>\n",
      "RangeIndex: 981 entries, 0 to 980\n",
      "Data columns (total 16 columns):\n",
      " #   Column          Non-Null Count  Dtype \n",
      "---  ------          --------------  ----- \n",
      " 0   link            981 non-null    object\n",
      " 1   name            981 non-null    object\n",
      " 2   year            981 non-null    int64 \n",
      " 3   category        981 non-null    object\n",
      " 4   country         981 non-null    object\n",
      " 5   text            981 non-null    object\n",
      " 6   date_of_birth   981 non-null    object\n",
      " 7   place_of_birth  980 non-null    object\n",
      " 8   gender          981 non-null    object\n",
      " 9   date_of_death   681 non-null    object\n",
      " 10  place_of_death  679 non-null    object\n",
      " 11  award_age       981 non-null    int64 \n",
      " 12  born_in         140 non-null    object\n",
      " 13  image_urls      659 non-null    object\n",
      " 14  mini_bio        659 non-null    object\n",
      " 15  bio_image       659 non-null    object\n",
      "dtypes: int64(2), object(14)\n",
      "memory usage: 122.8+ KB\n"
     ]
    }
   ],
   "source": [
    "df.info()"
   ]
  },
  {
   "cell_type": "code",
   "execution_count": 7,
   "id": "58383635-653b-4c0d-b65c-a621b41e6a03",
   "metadata": {
    "jupyter": {
     "source_hidden": true
    }
   },
   "outputs": [],
   "source": [
    "df.date_of_birth = pd.to_datetime(df.date_of_birth)\n",
    "df.date_of_death = pd.to_datetime(df.date_of_death)"
   ]
  },
  {
   "cell_type": "markdown",
   "id": "b566065c-28fc-4dc4-ab1a-08155080f671",
   "metadata": {},
   "source": [
    "## Gender Disparities"
   ]
  },
  {
   "cell_type": "markdown",
   "id": "d3920325-6f89-457f-a65b-f7071b3b10ac",
   "metadata": {},
   "source": [
    "#### Female Physics Nobel Prize winners"
   ]
  },
  {
   "cell_type": "code",
   "execution_count": 8,
   "id": "4a77aba1-de34-473c-9231-c40f85a7275a",
   "metadata": {
    "jupyter": {
     "source_hidden": true
    }
   },
   "outputs": [
    {
     "data": {
      "text/html": [
       "<div>\n",
       "<style scoped>\n",
       "    .dataframe tbody tr th:only-of-type {\n",
       "        vertical-align: middle;\n",
       "    }\n",
       "\n",
       "    .dataframe tbody tr th {\n",
       "        vertical-align: top;\n",
       "    }\n",
       "\n",
       "    .dataframe thead th {\n",
       "        text-align: right;\n",
       "    }\n",
       "</style>\n",
       "<table border=\"1\" class=\"dataframe\">\n",
       "  <thead>\n",
       "    <tr style=\"text-align: right;\">\n",
       "      <th></th>\n",
       "      <th>name</th>\n",
       "      <th>year</th>\n",
       "    </tr>\n",
       "  </thead>\n",
       "  <tbody>\n",
       "    <tr>\n",
       "      <th>62</th>\n",
       "      <td>Andrea Ghez</td>\n",
       "      <td>2020</td>\n",
       "    </tr>\n",
       "    <tr>\n",
       "      <th>68</th>\n",
       "      <td>Anne L'Huillier</td>\n",
       "      <td>2023</td>\n",
       "    </tr>\n",
       "    <tr>\n",
       "      <th>210</th>\n",
       "      <td>Donna Strickland</td>\n",
       "      <td>2018</td>\n",
       "    </tr>\n",
       "    <tr>\n",
       "      <th>616</th>\n",
       "      <td>Maria Goeppert-Mayer</td>\n",
       "      <td>1963</td>\n",
       "    </tr>\n",
       "    <tr>\n",
       "      <th>618</th>\n",
       "      <td>Marie Skłodowska-Curie</td>\n",
       "      <td>1903</td>\n",
       "    </tr>\n",
       "  </tbody>\n",
       "</table>\n",
       "</div>"
      ],
      "text/plain": [
       "                       name  year\n",
       "62              Andrea Ghez  2020\n",
       "68          Anne L'Huillier  2023\n",
       "210        Donna Strickland  2018\n",
       "616    Maria Goeppert-Mayer  1963\n",
       "618  Marie Skłodowska-Curie  1903"
      ]
     },
     "execution_count": 8,
     "metadata": {},
     "output_type": "execute_result"
    }
   ],
   "source": [
    "by_cat_gen = df.groupby([\"category\", \"gender\"])\n",
    "by_cat_gen.get_group((\"Physics\", \"female\"))[[\"name\", \"year\"]]"
   ]
  },
  {
   "cell_type": "markdown",
   "id": "bf3fb50e-5525-4742-86ba-fe1a1e682ebd",
   "metadata": {},
   "source": [
    "#### Number of Nobel Prize winners, by gender, in each category"
   ]
  },
  {
   "cell_type": "code",
   "execution_count": 9,
   "id": "5df7610f-e38b-47fa-b9f3-ef3854245e5f",
   "metadata": {
    "jupyter": {
     "source_hidden": true
    }
   },
   "outputs": [
    {
     "data": {
      "text/plain": [
       "category                gender\n",
       "Chemistry               female      8\n",
       "                        male      187\n",
       "Economics               female      3\n",
       "                        male       93\n",
       "Literature              female     18\n",
       "                        male      102\n",
       "Peace                   female     19\n",
       "                        male       92\n",
       "Physics                 female      5\n",
       "                        male      223\n",
       "Physiology or Medicine  female     13\n",
       "                        male      218\n",
       "dtype: int64"
      ]
     },
     "execution_count": 9,
     "metadata": {},
     "output_type": "execute_result"
    }
   ],
   "source": [
    "by_cat_gen.size()"
   ]
  },
  {
   "cell_type": "code",
   "execution_count": 11,
   "id": "a5b6f697-3762-443a-bf2f-edaf5a930257",
   "metadata": {
    "jupyter": {
     "source_hidden": true
    }
   },
   "outputs": [
    {
     "data": {
      "text/plain": [
       "<Axes: ylabel='category,gender'>"
      ]
     },
     "execution_count": 11,
     "metadata": {},
     "output_type": "execute_result"
    },
    {
     "data": {
      "image/png": "[encoded data removed]",
      "text/plain": [
       "<Figure size 800x400 with 1 Axes>"
      ]
     },
     "metadata": {},
     "output_type": "display_data"
    }
   ],
   "source": [
    "by_cat_gen.size().plot(kind=\"barh\")"
   ]
  },
  {
   "cell_type": "code",
   "execution_count": 12,
   "id": "f27ac6df-99ae-40d3-b4fb-ff88d5e65752",
   "metadata": {
    "jupyter": {
     "source_hidden": true
    }
   },
   "outputs": [
    {
     "data": {
      "text/plain": [
       "<Axes: ylabel='category'>"
      ]
     },
     "execution_count": 12,
     "metadata": {},
     "output_type": "execute_result"
    },
    {
     "data": {
      "image/png": "[encoded data removed]",
      "text/plain": [
       "<Figure size 800x400 with 1 Axes>"
      ]
     },
     "metadata": {},
     "output_type": "display_data"
    }
   ],
   "source": [
    "# unstacked\n",
    "by_cat_gen.size().unstack().plot(kind=\"barh\")"
   ]
  },
  {
   "cell_type": "code",
   "execution_count": 18,
   "id": "c05f77ca-d770-4d72-80c7-a16d3c4d5a22",
   "metadata": {
    "jupyter": {
     "source_hidden": true
    }
   },
   "outputs": [
    {
     "data": {
      "text/html": [
       "<div>\n",
       "<style scoped>\n",
       "    .dataframe tbody tr th:only-of-type {\n",
       "        vertical-align: middle;\n",
       "    }\n",
       "\n",
       "    .dataframe tbody tr th {\n",
       "        vertical-align: top;\n",
       "    }\n",
       "\n",
       "    .dataframe thead th {\n",
       "        text-align: right;\n",
       "    }\n",
       "</style>\n",
       "<table border=\"1\" class=\"dataframe\">\n",
       "  <thead>\n",
       "    <tr style=\"text-align: right;\">\n",
       "      <th>gender</th>\n",
       "      <th>female</th>\n",
       "      <th>male</th>\n",
       "    </tr>\n",
       "    <tr>\n",
       "      <th>category</th>\n",
       "      <th></th>\n",
       "      <th></th>\n",
       "    </tr>\n",
       "  </thead>\n",
       "  <tbody>\n",
       "    <tr>\n",
       "      <th>Chemistry</th>\n",
       "      <td>8</td>\n",
       "      <td>187</td>\n",
       "    </tr>\n",
       "    <tr>\n",
       "      <th>Economics</th>\n",
       "      <td>3</td>\n",
       "      <td>93</td>\n",
       "    </tr>\n",
       "    <tr>\n",
       "      <th>Literature</th>\n",
       "      <td>18</td>\n",
       "      <td>102</td>\n",
       "    </tr>\n",
       "    <tr>\n",
       "      <th>Peace</th>\n",
       "      <td>19</td>\n",
       "      <td>92</td>\n",
       "    </tr>\n",
       "    <tr>\n",
       "      <th>Physics</th>\n",
       "      <td>5</td>\n",
       "      <td>223</td>\n",
       "    </tr>\n",
       "    <tr>\n",
       "      <th>Physiology or Medicine</th>\n",
       "      <td>13</td>\n",
       "      <td>218</td>\n",
       "    </tr>\n",
       "  </tbody>\n",
       "</table>\n",
       "</div>"
      ],
      "text/plain": [
       "gender                  female  male\n",
       "category                            \n",
       "Chemistry                    8   187\n",
       "Economics                    3    93\n",
       "Literature                  18   102\n",
       "Peace                       19    92\n",
       "Physics                      5   223\n",
       "Physiology or Medicine      13   218"
      ]
     },
     "execution_count": 18,
     "metadata": {},
     "output_type": "execute_result"
    }
   ],
   "source": [
    "cat_gen_sz = by_cat_gen.size().unstack()\n",
    "cat_gen_sz"
   ]
  },
  {
   "cell_type": "code",
   "execution_count": 19,
   "id": "21a21129-00b3-48f7-8c0d-9d816b44199b",
   "metadata": {
    "jupyter": {
     "source_hidden": true
    }
   },
   "outputs": [
    {
     "data": {
      "text/html": [
       "<div>\n",
       "<style scoped>\n",
       "    .dataframe tbody tr th:only-of-type {\n",
       "        vertical-align: middle;\n",
       "    }\n",
       "\n",
       "    .dataframe tbody tr th {\n",
       "        vertical-align: top;\n",
       "    }\n",
       "\n",
       "    .dataframe thead th {\n",
       "        text-align: right;\n",
       "    }\n",
       "</style>\n",
       "<table border=\"1\" class=\"dataframe\">\n",
       "  <thead>\n",
       "    <tr style=\"text-align: right;\">\n",
       "      <th>gender</th>\n",
       "      <th>female</th>\n",
       "      <th>male</th>\n",
       "      <th>ratio</th>\n",
       "    </tr>\n",
       "    <tr>\n",
       "      <th>category</th>\n",
       "      <th></th>\n",
       "      <th></th>\n",
       "      <th></th>\n",
       "    </tr>\n",
       "  </thead>\n",
       "  <tbody>\n",
       "    <tr>\n",
       "      <th>Chemistry</th>\n",
       "      <td>8</td>\n",
       "      <td>187</td>\n",
       "      <td>0.041026</td>\n",
       "    </tr>\n",
       "    <tr>\n",
       "      <th>Economics</th>\n",
       "      <td>3</td>\n",
       "      <td>93</td>\n",
       "      <td>0.031250</td>\n",
       "    </tr>\n",
       "    <tr>\n",
       "      <th>Literature</th>\n",
       "      <td>18</td>\n",
       "      <td>102</td>\n",
       "      <td>0.150000</td>\n",
       "    </tr>\n",
       "    <tr>\n",
       "      <th>Peace</th>\n",
       "      <td>19</td>\n",
       "      <td>92</td>\n",
       "      <td>0.171171</td>\n",
       "    </tr>\n",
       "    <tr>\n",
       "      <th>Physics</th>\n",
       "      <td>5</td>\n",
       "      <td>223</td>\n",
       "      <td>0.021930</td>\n",
       "    </tr>\n",
       "    <tr>\n",
       "      <th>Physiology or Medicine</th>\n",
       "      <td>13</td>\n",
       "      <td>218</td>\n",
       "      <td>0.056277</td>\n",
       "    </tr>\n",
       "  </tbody>\n",
       "</table>\n",
       "</div>"
      ],
      "text/plain": [
       "gender                  female  male     ratio\n",
       "category                                      \n",
       "Chemistry                    8   187  0.041026\n",
       "Economics                    3    93  0.031250\n",
       "Literature                  18   102  0.150000\n",
       "Peace                       19    92  0.171171\n",
       "Physics                      5   223  0.021930\n",
       "Physiology or Medicine      13   218  0.056277"
      ]
     },
     "execution_count": 19,
     "metadata": {},
     "output_type": "execute_result"
    }
   ],
   "source": [
    "cat_gen_sz[\"ratio\"] = cat_gen_sz.female / (cat_gen_sz.female + cat_gen_sz.male)\n",
    "cat_gen_sz"
   ]
  },
  {
   "cell_type": "markdown",
   "id": "52b0ff39-b3d2-4960-997e-fbaea7a25961",
   "metadata": {},
   "source": [
    "#### Percentage of female nobel prize winners per category"
   ]
  },
  {
   "cell_type": "code",
   "execution_count": 21,
   "id": "75d798df-e760-404e-a004-b0f4658b8f16",
   "metadata": {
    "jupyter": {
     "source_hidden": true
    }
   },
   "outputs": [
    {
     "data": {
      "text/html": [
       "<div>\n",
       "<style scoped>\n",
       "    .dataframe tbody tr th:only-of-type {\n",
       "        vertical-align: middle;\n",
       "    }\n",
       "\n",
       "    .dataframe tbody tr th {\n",
       "        vertical-align: top;\n",
       "    }\n",
       "\n",
       "    .dataframe thead th {\n",
       "        text-align: right;\n",
       "    }\n",
       "</style>\n",
       "<table border=\"1\" class=\"dataframe\">\n",
       "  <thead>\n",
       "    <tr style=\"text-align: right;\">\n",
       "      <th>gender</th>\n",
       "      <th>female</th>\n",
       "      <th>male</th>\n",
       "      <th>ratio</th>\n",
       "      <th>female_pc</th>\n",
       "    </tr>\n",
       "    <tr>\n",
       "      <th>category</th>\n",
       "      <th></th>\n",
       "      <th></th>\n",
       "      <th></th>\n",
       "      <th></th>\n",
       "    </tr>\n",
       "  </thead>\n",
       "  <tbody>\n",
       "    <tr>\n",
       "      <th>Chemistry</th>\n",
       "      <td>8</td>\n",
       "      <td>187</td>\n",
       "      <td>0.041026</td>\n",
       "      <td>4.102564</td>\n",
       "    </tr>\n",
       "    <tr>\n",
       "      <th>Economics</th>\n",
       "      <td>3</td>\n",
       "      <td>93</td>\n",
       "      <td>0.031250</td>\n",
       "      <td>3.125000</td>\n",
       "    </tr>\n",
       "    <tr>\n",
       "      <th>Literature</th>\n",
       "      <td>18</td>\n",
       "      <td>102</td>\n",
       "      <td>0.150000</td>\n",
       "      <td>15.000000</td>\n",
       "    </tr>\n",
       "    <tr>\n",
       "      <th>Peace</th>\n",
       "      <td>19</td>\n",
       "      <td>92</td>\n",
       "      <td>0.171171</td>\n",
       "      <td>17.117117</td>\n",
       "    </tr>\n",
       "    <tr>\n",
       "      <th>Physics</th>\n",
       "      <td>5</td>\n",
       "      <td>223</td>\n",
       "      <td>0.021930</td>\n",
       "      <td>2.192982</td>\n",
       "    </tr>\n",
       "    <tr>\n",
       "      <th>Physiology or Medicine</th>\n",
       "      <td>13</td>\n",
       "      <td>218</td>\n",
       "      <td>0.056277</td>\n",
       "      <td>5.627706</td>\n",
       "    </tr>\n",
       "  </tbody>\n",
       "</table>\n",
       "</div>"
      ],
      "text/plain": [
       "gender                  female  male     ratio  female_pc\n",
       "category                                                 \n",
       "Chemistry                    8   187  0.041026   4.102564\n",
       "Economics                    3    93  0.031250   3.125000\n",
       "Literature                  18   102  0.150000  15.000000\n",
       "Peace                       19    92  0.171171  17.117117\n",
       "Physics                      5   223  0.021930   2.192982\n",
       "Physiology or Medicine      13   218  0.056277   5.627706"
      ]
     },
     "execution_count": 21,
     "metadata": {},
     "output_type": "execute_result"
    }
   ],
   "source": [
    "cat_gen_sz[\"female_pc\"] = cat_gen_sz[\"ratio\"] * 100\n",
    "cat_gen_sz"
   ]
  },
  {
   "cell_type": "code",
   "execution_count": 22,
   "id": "caec8021-01b3-45be-9f4a-3894fc65162a",
   "metadata": {
    "jupyter": {
     "source_hidden": true
    }
   },
   "outputs": [
    {
     "data": {
      "text/plain": [
       "Text(0.5, 0, '% of female winners')"
      ]
     },
     "execution_count": 22,
     "metadata": {},
     "output_type": "execute_result"
    },
    {
     "data": {
      "image/png": "[encoded data removed]",
      "text/plain": [
       "<Figure size 800x400 with 1 Axes>"
      ]
     },
     "metadata": {},
     "output_type": "display_data"
    }
   ],
   "source": [
    "cat_gen_sz = cat_gen_sz.sort_values(by=\"female_pc\", ascending=True)\n",
    "ax = cat_gen_sz[[\"female_pc\"]].plot(kind=\"barh\")\n",
    "ax.set_xlim([0,100])\n",
    "ax.set_xlabel(\"% of female winners\")"
   ]
  },
  {
   "cell_type": "markdown",
   "id": "3a929302-75c5-402a-a9c4-5bc3bbab9700",
   "metadata": {},
   "source": [
    "### Historical Trends"
   ]
  },
  {
   "cell_type": "code",
   "execution_count": 34,
   "id": "246d26b9-cc64-4dc2-a5aa-e0e277c2d7ac",
   "metadata": {},
   "outputs": [
    {
     "ename": "AttributeError",
     "evalue": "'XAxis' object has no attribute 'get_ticklocks'",
     "output_type": "error",
     "traceback": [
      "\u001b[1;31m---------------------------------------------------------------------------\u001b[0m",
      "\u001b[1;31mAttributeError\u001b[0m                            Traceback (most recent call last)",
      "Cell \u001b[1;32mIn[34], line 4\u001b[0m\n\u001b[0;32m      2\u001b[0m year_gen_sz \u001b[38;5;241m=\u001b[39m by_year_gender\u001b[38;5;241m.\u001b[39msize()\u001b[38;5;241m.\u001b[39munstack()\n\u001b[0;32m      3\u001b[0m ax \u001b[38;5;241m=\u001b[39m year_gen_sz\u001b[38;5;241m.\u001b[39mplot(kind\u001b[38;5;241m=\u001b[39m\u001b[38;5;124m\"\u001b[39m\u001b[38;5;124mbar\u001b[39m\u001b[38;5;124m\"\u001b[39m, figsize\u001b[38;5;241m=\u001b[39m(\u001b[38;5;241m16\u001b[39m,\u001b[38;5;241m4\u001b[39m))\n\u001b[1;32m----> 4\u001b[0m \u001b[43mthin_xticks\u001b[49m\u001b[43m(\u001b[49m\u001b[43max\u001b[49m\u001b[43m)\u001b[49m\n",
      "Cell \u001b[1;32mIn[33], line 3\u001b[0m, in \u001b[0;36mthin_xticks\u001b[1;34m(ax, tick_gap, rotation)\u001b[0m\n\u001b[0;32m      1\u001b[0m \u001b[38;5;28;01mdef\u001b[39;00m\u001b[38;5;250m \u001b[39m\u001b[38;5;21mthin_xticks\u001b[39m(ax, tick_gap\u001b[38;5;241m=\u001b[39m\u001b[38;5;241m10\u001b[39m, rotation\u001b[38;5;241m=\u001b[39m\u001b[38;5;241m45\u001b[39m):\n\u001b[0;32m      2\u001b[0m \u001b[38;5;250m    \u001b[39m\u001b[38;5;124;03m\"\"\" Thin x-ticks and adjust rotation \"\"\"\u001b[39;00m\n\u001b[1;32m----> 3\u001b[0m     ticks \u001b[38;5;241m=\u001b[39m \u001b[43max\u001b[49m\u001b[38;5;241;43m.\u001b[39;49m\u001b[43mxaxis\u001b[49m\u001b[38;5;241;43m.\u001b[39;49m\u001b[43mget_ticklocks\u001b[49m()\n\u001b[0;32m      4\u001b[0m     ticklabels \u001b[38;5;241m=\u001b[39m [l\u001b[38;5;241m.\u001b[39mget_text() \u001b[38;5;28;01mfor\u001b[39;00m l \u001b[38;5;129;01min\u001b[39;00m ax\u001b[38;5;241m.\u001b[39mxaxis\u001b[38;5;241m.\u001b[39mget_ticklabels()]\n\u001b[0;32m      5\u001b[0m     ax\u001b[38;5;241m.\u001b[39mxaxis\u001b[38;5;241m.\u001b[39mset_ticks(ticks[::tick_gap])\n",
      "\u001b[1;31mAttributeError\u001b[0m: 'XAxis' object has no attribute 'get_ticklocks'"
     ]
    },
    {
     "data": {
      "image/png": "[encoded data removed]",
      "text/plain": [
       "<Figure size 1600x400 with 1 Axes>"
      ]
     },
     "metadata": {},
     "output_type": "display_data"
    }
   ],
   "source": [
    "by_year_gender = df.groupby([\"year\", \"gender\"])\n",
    "year_gen_sz = by_year_gender.size().unstack()\n",
    "ax = year_gen_sz.plot(kind=\"bar\", figsize=(16,4))\n",
    "thin_xticks(ax)"
   ]
  },
  {
   "cell_type": "code",
   "execution_count": 33,
   "id": "d3dc0adb-7f91-4010-aed1-f0aa17e06e06",
   "metadata": {},
   "outputs": [],
   "source": [
    "def thin_xticks(ax, tick_gap=10, rotation=45):\n",
    "    \"\"\" Thin x-ticks and adjust rotation \"\"\"\n",
    "    ticks = ax.xaxis.get_ticklocs()\n",
    "    ticklabels = [l.get_text() for l in ax.xaxis.get_ticklabels()]\n",
    "    ax.xaxis.set_ticks(ticks[::tick_gap])\n",
    "    ax.xaxis.set_ticklabels(ticklabels[::tick_gap], rotation=rotation)\n",
    "    ax.figure.show()"
   ]
  },
  {
   "cell_type": "code",
   "execution_count": null,
   "id": "8d9ae19e-5108-47bf-9263-ffc0a75c5cb8",
   "metadata": {},
   "outputs": [],
   "source": []
  }
 ],
 "metadata": {
  "kernelspec": {
   "display_name": "Python 3 (ipykernel)",
   "language": "python",
   "name": "python3"
  },
  "language_info": {
   "codemirror_mode": {
    "name": "ipython",
    "version": 3
   },
   "file_extension": ".py",
   "mimetype": "text/x-python",
   "name": "python",
   "nbconvert_exporter": "python",
   "pygments_lexer": "ipython3",
   "version": "3.13.0"
  }
 },
 "nbformat": 4,
 "nbformat_minor": 5
}
