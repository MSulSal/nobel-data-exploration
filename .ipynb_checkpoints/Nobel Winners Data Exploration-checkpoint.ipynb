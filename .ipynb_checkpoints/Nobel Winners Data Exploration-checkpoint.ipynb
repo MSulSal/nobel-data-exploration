{
 "cells": [
  {
   "cell_type": "markdown",
   "id": "dc4edc65-ea60-4e78-b816-ce366d890f5c",
   "metadata": {},
   "source": [
    "# Nobel Winners Data Explored"
   ]
  },
  {
   "cell_type": "markdown",
   "id": "916a73f2-8dc4-4290-bbd1-c40dbe7c399e",
   "metadata": {},
   "source": [
    "## Setup"
   ]
  },
  {
   "cell_type": "code",
   "execution_count": 1,
   "id": "87fe974a-8ab4-45cb-80ea-159feed3dfe7",
   "metadata": {},
   "outputs": [],
   "source": [
    "%matplotlib inline"
   ]
  },
  {
   "cell_type": "code",
   "execution_count": 2,
   "id": "3ce5922e-dcbd-4b45-bdce-9dcd277c152b",
   "metadata": {},
   "outputs": [],
   "source": [
    "import numpy as np\n",
    "import pandas as pd\n",
    "import matplotlib\n",
    "import matplotlib.pyplot as plt\n",
    "import json\n",
    "import seaborn as sns"
   ]
  },
  {
   "cell_type": "code",
   "execution_count": 3,
   "id": "313e3c86-9054-4a85-94c2-e9dacbb7bea5",
   "metadata": {},
   "outputs": [],
   "source": [
    "matplotlib.style.use(\"seaborn-v0_8\")\n",
    "plt.rcParams[\"figure.figsize\"] = (8,4)\n",
    "plt.rcParams[\"font.size\"] = 14"
   ]
  }
 ],
 "metadata": {
  "kernelspec": {
   "display_name": "Python 3 (ipykernel)",
   "language": "python",
   "name": "python3"
  },
  "language_info": {
   "codemirror_mode": {
    "name": "ipython",
    "version": 3
   },
   "file_extension": ".py",
   "mimetype": "text/x-python",
   "name": "python",
   "nbconvert_exporter": "python",
   "pygments_lexer": "ipython3",
   "version": "3.13.0"
  }
 },
 "nbformat": 4,
 "nbformat_minor": 5
}
